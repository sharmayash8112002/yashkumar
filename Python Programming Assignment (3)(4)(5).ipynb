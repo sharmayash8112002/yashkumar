{
 "cells": [
  {
   "cell_type": "code",
   "execution_count": 1,
   "id": "55bd53f8",
   "metadata": {},
   "outputs": [
    {
     "name": "stdout",
     "output_type": "stream",
     "text": [
      "101 : 10201\n",
      "103 : 10609\n",
      "105 : 11025\n",
      "107 : 11449\n",
      "109 : 11881\n",
      "111 : 12321\n",
      "113 : 12769\n",
      "115 : 13225\n",
      "117 : 13689\n",
      "119 : 14161\n",
      "121 : 14641\n",
      "123 : 15129\n",
      "125 : 15625\n",
      "127 : 16129\n",
      "129 : 16641\n",
      "131 : 17161\n",
      "133 : 17689\n",
      "135 : 18225\n",
      "137 : 18769\n",
      "139 : 19321\n",
      "141 : 19881\n",
      "143 : 20449\n",
      "145 : 21025\n",
      "147 : 21609\n",
      "149 : 22201\n",
      "151 : 22801\n",
      "153 : 23409\n",
      "155 : 24025\n",
      "157 : 24649\n",
      "159 : 25281\n",
      "161 : 25921\n",
      "163 : 26569\n",
      "165 : 27225\n",
      "167 : 27889\n",
      "169 : 28561\n",
      "171 : 29241\n",
      "173 : 29929\n",
      "175 : 30625\n",
      "177 : 31329\n",
      "179 : 32041\n",
      "181 : 32761\n",
      "183 : 33489\n",
      "185 : 34225\n",
      "187 : 34969\n",
      "189 : 35721\n",
      "191 : 36481\n",
      "193 : 37249\n",
      "195 : 38025\n",
      "197 : 38809\n",
      "199 : 39601\n"
     ]
    }
   ],
   "source": [
    "#Exercise 3: Squares of Even/Odd Numbers\n",
    "for num in range(101, 200, 2):\n",
    "    print(num, \":\", num**2)"
   ]
  },
  {
   "cell_type": "code",
   "execution_count": 2,
   "id": "d5ef8538",
   "metadata": {},
   "outputs": [
    {
     "name": "stdout",
     "output_type": "stream",
     "text": [
      "100 : 10000\n",
      "102 : 10404\n",
      "104 : 10816\n",
      "106 : 11236\n",
      "108 : 11664\n",
      "110 : 12100\n",
      "112 : 12544\n",
      "114 : 12996\n",
      "116 : 13456\n",
      "118 : 13924\n",
      "120 : 14400\n",
      "122 : 14884\n",
      "124 : 15376\n",
      "126 : 15876\n",
      "128 : 16384\n",
      "130 : 16900\n",
      "132 : 17424\n",
      "134 : 17956\n",
      "136 : 18496\n",
      "138 : 19044\n",
      "140 : 19600\n",
      "142 : 20164\n",
      "144 : 20736\n",
      "146 : 21316\n",
      "148 : 21904\n",
      "150 : 22500\n",
      "152 : 23104\n",
      "154 : 23716\n",
      "156 : 24336\n",
      "158 : 24964\n",
      "160 : 25600\n",
      "162 : 26244\n",
      "164 : 26896\n",
      "166 : 27556\n",
      "168 : 28224\n",
      "170 : 28900\n",
      "172 : 29584\n",
      "174 : 30276\n",
      "176 : 30976\n",
      "178 : 31684\n",
      "180 : 32400\n",
      "182 : 33124\n",
      "184 : 33856\n",
      "186 : 34596\n",
      "188 : 35344\n",
      "190 : 36100\n",
      "192 : 36864\n",
      "194 : 37636\n",
      "196 : 38416\n",
      "198 : 39204\n"
     ]
    }
   ],
   "source": [
    "for num in range(100, 200, 2):\n",
    "    print(num, \":\", num**2)"
   ]
  },
  {
   "cell_type": "code",
   "execution_count": 3,
   "id": "77593218",
   "metadata": {},
   "outputs": [],
   "source": [
    "#Exercise 4: Word Counter\n",
    "def word_counter(text):\n",
    "    word_count = {}\n",
    "    words = text.split()\n",
    "    for word in words:\n",
    "        word_count[word] = word_count.get(word, 0) + 1\n",
    "    return word_count\n",
    "\n",
    "input_text = \"This is a sample text. This text will be used to demonstrate the word counter.\"\n",
    "result = word_counter(input_text)"
   ]
  },
  {
   "cell_type": "code",
   "execution_count": 4,
   "id": "816647c6",
   "metadata": {},
   "outputs": [
    {
     "name": "stdout",
     "output_type": "stream",
     "text": [
      "'This': 2\n",
      "'is': 1\n",
      "'a': 1\n",
      "'sample': 1\n",
      "'text.': 1\n",
      "'text': 1\n",
      "'will': 1\n",
      "'be': 1\n",
      "'used': 1\n",
      "'to': 1\n",
      "'demonstrate': 1\n",
      "'the': 1\n",
      "'word': 1\n",
      "'counter.': 1\n"
     ]
    }
   ],
   "source": [
    "for word, count in result.items():\n",
    "    print(f\"'{word}': {count}\")"
   ]
  },
  {
   "cell_type": "code",
   "execution_count": 5,
   "id": "3c72b9b7",
   "metadata": {},
   "outputs": [],
   "source": [
    "#Exercise 5: Check for Palindrome\n",
    "def is_palindrome(s):\n",
    "    s = s.lower().replace(\" \", \"\")\n",
    "    return s == s[::-1]"
   ]
  },
  {
   "cell_type": "code",
   "execution_count": 6,
   "id": "f51ae094",
   "metadata": {},
   "outputs": [
    {
     "name": "stdout",
     "output_type": "stream",
     "text": [
      "Is 'racecar' a palindrome? True\n",
      "Is 'hello' a palindrome? False\n"
     ]
    }
   ],
   "source": [
    "print(\"Is 'racecar' a palindrome?\", is_palindrome(\"racecar\"))\n",
    "print(\"Is 'hello' a palindrome?\", is_palindrome(\"hello\"))"
   ]
  }
 ],
 "metadata": {
  "kernelspec": {
   "display_name": "Python 3 (ipykernel)",
   "language": "python",
   "name": "python3"
  },
  "language_info": {
   "codemirror_mode": {
    "name": "ipython",
    "version": 3
   },
   "file_extension": ".py",
   "mimetype": "text/x-python",
   "name": "python",
   "nbconvert_exporter": "python",
   "pygments_lexer": "ipython3",
   "version": "3.11.5"
  }
 },
 "nbformat": 4,
 "nbformat_minor": 5
}

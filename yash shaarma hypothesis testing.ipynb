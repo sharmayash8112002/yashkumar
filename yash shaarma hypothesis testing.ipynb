{
 "cells": [
  {
   "cell_type": "code",
   "execution_count": 1,
   "id": "a1bf7c06",
   "metadata": {},
   "outputs": [],
   "source": [
    "import numpy as np"
   ]
  },
  {
   "cell_type": "code",
   "execution_count": 2,
   "id": "3a21a7f8",
   "metadata": {},
   "outputs": [],
   "source": [
    "sample_mean = 3050\n",
    "theoretical_mean = 4000\n",
    "theoretical_std = 125\n",
    "n = 25\n",
    "alpha = 0.05\n",
    "critical_value = 1.645  # From standard normal distribution table for alpha = 0.05 (one-tailed test)"
   ]
  },
  {
   "cell_type": "code",
   "execution_count": 3,
   "id": "11c4136d",
   "metadata": {},
   "outputs": [],
   "source": [
    "t = (sample_mean - theoretical_mean) / (theoretical_std / np.sqrt(n))"
   ]
  },
  {
   "cell_type": "code",
   "execution_count": 4,
   "id": "9f0d087a",
   "metadata": {},
   "outputs": [],
   "source": [
    "if t > critical_value:\n",
    "    decision = \"Reject the null hypothesis\"\n",
    "    evidence = \"There is strong evidence to support the claim that the weekly operating costs are higher than the model suggests.\"\n",
    "else:\n",
    "    decision = \"Fail to reject the null hypothesis\"\n",
    "    evidence = \"There is not enough evidence to support the claim that the weekly operating costs are higher than the model suggests.\""
   ]
  },
  {
   "cell_type": "code",
   "execution_count": 5,
   "id": "d3dbd1de",
   "metadata": {},
   "outputs": [
    {
     "name": "stdout",
     "output_type": "stream",
     "text": [
      "Test Statistic (t): -38.0\n",
      "Decision: Fail to reject the null hypothesis\n",
      "Conclusion: There is not enough evidence to support the claim that the weekly operating costs are higher than the model suggests.\n"
     ]
    }
   ],
   "source": [
    "print(\"Test Statistic (t):\", t)\n",
    "print(\"Decision:\", decision)\n",
    "print(\"Conclusion:\", evidence)"
   ]
  },
  {
   "cell_type": "code",
   "execution_count": null,
   "id": "e27730f3-389b-442c-a8a6-c8cc84e1e81c",
   "metadata": {},
   "outputs": [],
   "source": []
  },
  {
   "cell_type": "code",
   "execution_count": null,
   "id": "2923a5c6-3864-4bb3-b2b8-87c3afe1c5c9",
   "metadata": {},
   "outputs": [],
   "source": []
  }
 ],
 "metadata": {
  "kernelspec": {
   "display_name": "Python 3 (ipykernel)",
   "language": "python",
   "name": "python3"
  },
  "language_info": {
   "codemirror_mode": {
    "name": "ipython",
    "version": 3
   },
   "file_extension": ".py",
   "mimetype": "text/x-python",
   "name": "python",
   "nbconvert_exporter": "python",
   "pygments_lexer": "ipython3",
   "version": "3.11.7"
  }
 },
 "nbformat": 4,
 "nbformat_minor": 5
}

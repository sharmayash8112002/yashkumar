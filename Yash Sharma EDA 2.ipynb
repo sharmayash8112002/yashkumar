{
 "cells": [
  {
   "cell_type": "code",
   "execution_count": 1,
   "id": "61a4b76d",
   "metadata": {},
   "outputs": [
    {
     "name": "stderr",
     "output_type": "stream",
     "text": [
      "/Users/kirtisailinaidu/anaconda3/lib/python3.11/site-packages/pandas/core/arrays/masked.py:60: UserWarning: Pandas requires version '1.3.6' or newer of 'bottleneck' (version '1.3.5' currently installed).\n",
      "  from pandas.core import (\n"
     ]
    }
   ],
   "source": [
    "import pandas as pd\n",
    "from sklearn.model_selection import train_test_split\n",
    "from sklearn.preprocessing import StandardScaler, MinMaxScaler"
   ]
  },
  {
   "cell_type": "code",
   "execution_count": 2,
   "id": "7e491255",
   "metadata": {},
   "outputs": [],
   "source": [
    "# Step 1: Load the dataset\n",
    "data = pd.read_csv(\"/Users/kirtisailinaidu/Downloads/EDA2/adult_with_headers.csv\")"
   ]
  },
  {
   "cell_type": "code",
   "execution_count": 3,
   "id": "e9a1e266",
   "metadata": {},
   "outputs": [
    {
     "name": "stdout",
     "output_type": "stream",
     "text": [
      "Summary Statistics:\n",
      "                age        fnlwgt  education_num  capital_gain  capital_loss  \\\n",
      "count  32561.000000  3.256100e+04   32561.000000  32561.000000  32561.000000   \n",
      "mean      38.581647  1.897784e+05      10.080679   1077.648844     87.303830   \n",
      "std       13.640433  1.055500e+05       2.572720   7385.292085    402.960219   \n",
      "min       17.000000  1.228500e+04       1.000000      0.000000      0.000000   \n",
      "25%       28.000000  1.178270e+05       9.000000      0.000000      0.000000   \n",
      "50%       37.000000  1.783560e+05      10.000000      0.000000      0.000000   \n",
      "75%       48.000000  2.370510e+05      12.000000      0.000000      0.000000   \n",
      "max       90.000000  1.484705e+06      16.000000  99999.000000   4356.000000   \n",
      "\n",
      "       hours_per_week  \n",
      "count    32561.000000  \n",
      "mean        40.437456  \n",
      "std         12.347429  \n",
      "min          1.000000  \n",
      "25%         40.000000  \n",
      "50%         40.000000  \n",
      "75%         45.000000  \n",
      "max         99.000000  \n"
     ]
    }
   ],
   "source": [
    "# Step 2: Data Exploration\n",
    "print(\"Summary Statistics:\")\n",
    "print(data.describe())"
   ]
  },
  {
   "cell_type": "code",
   "execution_count": 4,
   "id": "09332aed",
   "metadata": {},
   "outputs": [
    {
     "name": "stdout",
     "output_type": "stream",
     "text": [
      "\n",
      "Missing Values:\n",
      "age               0\n",
      "workclass         0\n",
      "fnlwgt            0\n",
      "education         0\n",
      "education_num     0\n",
      "marital_status    0\n",
      "occupation        0\n",
      "relationship      0\n",
      "race              0\n",
      "sex               0\n",
      "capital_gain      0\n",
      "capital_loss      0\n",
      "hours_per_week    0\n",
      "native_country    0\n",
      "income            0\n",
      "dtype: int64\n"
     ]
    }
   ],
   "source": [
    "print(\"\\nMissing Values:\")\n",
    "print(data.isnull().sum())"
   ]
  },
  {
   "cell_type": "code",
   "execution_count": 5,
   "id": "d65f8d0c",
   "metadata": {},
   "outputs": [
    {
     "name": "stdout",
     "output_type": "stream",
     "text": [
      "\n",
      "Data Types:\n",
      "age                int64\n",
      "workclass         object\n",
      "fnlwgt             int64\n",
      "education         object\n",
      "education_num      int64\n",
      "marital_status    object\n",
      "occupation        object\n",
      "relationship      object\n",
      "race              object\n",
      "sex               object\n",
      "capital_gain       int64\n",
      "capital_loss       int64\n",
      "hours_per_week     int64\n",
      "native_country    object\n",
      "income            object\n",
      "dtype: object\n"
     ]
    }
   ],
   "source": [
    "print(\"\\nData Types:\")\n",
    "print(data.dtypes)"
   ]
  },
  {
   "cell_type": "code",
   "execution_count": 10,
   "id": "0a7e80aa",
   "metadata": {},
   "outputs": [],
   "source": [
    "missing_percentage = (data.isnull().sum() / len(data)) * 100\n",
    "drop_columns = missing_percentage[missing_percentage > 30].index\n",
    "data.drop(columns=drop_columns, inplace=True)"
   ]
  },
  {
   "cell_type": "code",
   "execution_count": 7,
   "id": "81186fc8",
   "metadata": {},
   "outputs": [],
   "source": [
    "numerical_features = data.select_dtypes(include=['int64', 'float64']).columns"
   ]
  },
  {
   "cell_type": "code",
   "execution_count": 8,
   "id": "32da9f4a",
   "metadata": {},
   "outputs": [],
   "source": [
    "scaler_standard = StandardScaler()\n",
    "data_standard_scaled = pd.DataFrame(scaler_standard.fit_transform(data[numerical_features]), columns=numerical_features)"
   ]
  },
  {
   "cell_type": "code",
   "execution_count": 9,
   "id": "c1ade342",
   "metadata": {},
   "outputs": [],
   "source": [
    "scaler_minmax = MinMaxScaler()\n",
    "data_minmax_scaled = pd.DataFrame(scaler_minmax.fit_transform(data[numerical_features]), columns=numerical_features)"
   ]
  },
  {
   "cell_type": "code",
   "execution_count": 12,
   "id": "7c15ab7f",
   "metadata": {},
   "outputs": [],
   "source": [
    "\"\"\"\n",
    "Standard Scaling is preferred when the data has outliers, as it scales the data to have mean 0 and standard deviation 1,\n",
    "making it less sensitive to the outliers.\n",
    "\n",
    "Min-Max Scaling is preferred when the distribution of the data is not Gaussian and the algorithm used for modeling \n",
    "requires features to be on a similar scale (e.g., neural networks, KNN), as it scales the data to a fixed range (usually 0 to 1),\n",
    "preserving the shape of the original distribution and relative differences between values.\n",
    "\"\"\"\n",
    "\n",
    "# Step 6: Splitting the data into training and testing sets\n",
    "X_train, X_test, y_train, y_test = train_test_split(data_minmax_scaled, data['workclass'], test_size=0.2, random_state=42)"
   ]
  },
  {
   "cell_type": "code",
   "execution_count": 17,
   "id": "91f8a1ef",
   "metadata": {},
   "outputs": [],
   "source": [
    "# Step 2: Identify categorical variables\n",
    "categorical_features = data.select_dtypes(include=['object']).columns"
   ]
  },
  {
   "cell_type": "code",
   "execution_count": 18,
   "id": "71ca0e1d",
   "metadata": {},
   "outputs": [],
   "source": [
    "# Step 3: Apply One-Hot Encoding and Label Encoding\n",
    "onehot_encoder = OneHotEncoder()\n",
    "label_encoder = LabelEncoder()"
   ]
  },
  {
   "cell_type": "code",
   "execution_count": 28,
   "id": "958a79ba",
   "metadata": {},
   "outputs": [],
   "source": [
    "data['Age_Group'] = pd.cut(data['age'], bins=[0, 30, 50, 100], labels=['Young Adult', 'Adult', 'Senior'])"
   ]
  },
  {
   "cell_type": "code",
   "execution_count": 29,
   "id": "96905ca6",
   "metadata": {},
   "outputs": [],
   "source": [
    "education_map = {\n",
    "    'Preschool': 'No Education',\n",
    "    '1st-4th': 'Elementary School',\n",
    "    '5th-6th': 'Elementary School',\n",
    "    '7th-8th': 'Middle School',\n",
    "    '9th': 'High School',\n",
    "    '10th': 'High School',\n",
    "    '11th': 'High School',\n",
    "    '12th': 'High School',\n",
    "    'HS-grad': 'High School Graduate',\n",
    "    'Some-college': 'Some College',\n",
    "    'Assoc-acdm': 'Associate Degree',\n",
    "    'Assoc-voc': 'Associate Degree',\n",
    "    'Bachelors': \"Bachelor's Degree\",\n",
    "    'Masters': \"Master's Degree\",\n",
    "    'Prof-school': 'Professional School',\n",
    "    'Doctorate': \"Doctorate\"\n",
    "}\n",
    "data['Education_Level_Category'] = data['education'].map(education_map)"
   ]
  },
  {
   "cell_type": "code",
   "execution_count": 32,
   "id": "8d2d217a",
   "metadata": {},
   "outputs": [
    {
     "name": "stderr",
     "output_type": "stream",
     "text": [
      "/Users/kirtisailinaidu/anaconda3/lib/python3.11/site-packages/sklearn/base.py:486: UserWarning: X has feature names, but FunctionTransformer was fitted without feature names\n",
      "  warnings.warn(\n"
     ]
    }
   ],
   "source": [
    "transformer = FunctionTransformer(np.log1p, validate=True)\n",
    "data['Capital_Gain'] = transformer.transform(data[['capital_gain']])"
   ]
  },
  {
   "cell_type": "code",
   "execution_count": 35,
   "id": "ab6918db",
   "metadata": {},
   "outputs": [
    {
     "name": "stdout",
     "output_type": "stream",
     "text": [
      "Requirement already satisfied: scikit-learn in ./anaconda3/lib/python3.11/site-packages (1.4.2)\n",
      "Requirement already satisfied: numpy>=1.19.5 in ./anaconda3/lib/python3.11/site-packages (from scikit-learn) (1.24.3)\n",
      "Requirement already satisfied: scipy>=1.6.0 in ./anaconda3/lib/python3.11/site-packages (from scikit-learn) (1.13.0)\n",
      "Requirement already satisfied: joblib>=1.2.0 in ./anaconda3/lib/python3.11/site-packages (from scikit-learn) (1.2.0)\n",
      "Requirement already satisfied: threadpoolctl>=2.0.0 in ./anaconda3/lib/python3.11/site-packages (from scikit-learn) (2.2.0)\n",
      "Note: you may need to restart the kernel to use updated packages.\n"
     ]
    }
   ],
   "source": [
    "pip install scikit-learn"
   ]
  },
  {
   "cell_type": "code",
   "execution_count": 38,
   "id": "fbd8be21",
   "metadata": {},
   "outputs": [
    {
     "name": "stderr",
     "output_type": "stream",
     "text": [
      "/Users/kirtisailinaidu/anaconda3/lib/python3.11/site-packages/sklearn/model_selection/_split.py:737: UserWarning: The least populated class in y has only 2 members, which is less than n_splits=4.\n",
      "  warnings.warn(\n",
      "/Users/kirtisailinaidu/anaconda3/lib/python3.11/site-packages/sklearn/model_selection/_split.py:737: UserWarning: The least populated class in y has only 2 members, which is less than n_splits=4.\n",
      "  warnings.warn(\n",
      "/Users/kirtisailinaidu/anaconda3/lib/python3.11/site-packages/sklearn/model_selection/_split.py:737: UserWarning: The least populated class in y has only 2 members, which is less than n_splits=4.\n",
      "  warnings.warn(\n",
      "/Users/kirtisailinaidu/anaconda3/lib/python3.11/site-packages/sklearn/model_selection/_split.py:737: UserWarning: The least populated class in y has only 1 members, which is less than n_splits=4.\n",
      "  warnings.warn(\n",
      "/Users/kirtisailinaidu/anaconda3/lib/python3.11/site-packages/sklearn/model_selection/_split.py:737: UserWarning: The least populated class in y has only 2 members, which is less than n_splits=4.\n",
      "  warnings.warn(\n",
      "/Users/kirtisailinaidu/anaconda3/lib/python3.11/site-packages/sklearn/model_selection/_split.py:737: UserWarning: The least populated class in y has only 2 members, which is less than n_splits=4.\n",
      "  warnings.warn(\n",
      "/Users/kirtisailinaidu/anaconda3/lib/python3.11/site-packages/sklearn/model_selection/_split.py:737: UserWarning: The least populated class in y has only 1 members, which is less than n_splits=4.\n",
      "  warnings.warn(\n",
      "/Users/kirtisailinaidu/anaconda3/lib/python3.11/site-packages/sklearn/model_selection/_split.py:737: UserWarning: The least populated class in y has only 2 members, which is less than n_splits=4.\n",
      "  warnings.warn(\n",
      "/Users/kirtisailinaidu/anaconda3/lib/python3.11/site-packages/sklearn/model_selection/_split.py:737: UserWarning: The least populated class in y has only 2 members, which is less than n_splits=4.\n",
      "  warnings.warn(\n",
      "/Users/kirtisailinaidu/anaconda3/lib/python3.11/site-packages/sklearn/model_selection/_split.py:737: UserWarning: The least populated class in y has only 2 members, which is less than n_splits=4.\n",
      "  warnings.warn(\n",
      "/Users/kirtisailinaidu/anaconda3/lib/python3.11/site-packages/sklearn/model_selection/_split.py:737: UserWarning: The least populated class in y has only 1 members, which is less than n_splits=4.\n",
      "  warnings.warn(\n",
      "/Users/kirtisailinaidu/anaconda3/lib/python3.11/site-packages/sklearn/model_selection/_split.py:737: UserWarning: The least populated class in y has only 2 members, which is less than n_splits=4.\n",
      "  warnings.warn(\n",
      "/Users/kirtisailinaidu/anaconda3/lib/python3.11/site-packages/sklearn/model_selection/_split.py:737: UserWarning: The least populated class in y has only 2 members, which is less than n_splits=4.\n",
      "  warnings.warn(\n",
      "/Users/kirtisailinaidu/anaconda3/lib/python3.11/site-packages/sklearn/model_selection/_split.py:737: UserWarning: The least populated class in y has only 2 members, which is less than n_splits=4.\n",
      "  warnings.warn(\n",
      "/Users/kirtisailinaidu/anaconda3/lib/python3.11/site-packages/sklearn/model_selection/_split.py:737: UserWarning: The least populated class in y has only 1 members, which is less than n_splits=4.\n",
      "  warnings.warn(\n",
      "/Users/kirtisailinaidu/anaconda3/lib/python3.11/site-packages/sklearn/model_selection/_split.py:737: UserWarning: The least populated class in y has only 2 members, which is less than n_splits=4.\n",
      "  warnings.warn(\n",
      "/Users/kirtisailinaidu/anaconda3/lib/python3.11/site-packages/sklearn/model_selection/_split.py:737: UserWarning: The least populated class in y has only 2 members, which is less than n_splits=4.\n",
      "  warnings.warn(\n",
      "/Users/kirtisailinaidu/anaconda3/lib/python3.11/site-packages/sklearn/model_selection/_split.py:737: UserWarning: The least populated class in y has only 2 members, which is less than n_splits=4.\n",
      "  warnings.warn(\n",
      "/Users/kirtisailinaidu/anaconda3/lib/python3.11/site-packages/sklearn/model_selection/_split.py:737: UserWarning: The least populated class in y has only 1 members, which is less than n_splits=4.\n",
      "  warnings.warn(\n",
      "/Users/kirtisailinaidu/anaconda3/lib/python3.11/site-packages/sklearn/model_selection/_split.py:737: UserWarning: The least populated class in y has only 2 members, which is less than n_splits=4.\n",
      "  warnings.warn(\n",
      "/Users/kirtisailinaidu/anaconda3/lib/python3.11/site-packages/sklearn/model_selection/_split.py:737: UserWarning: The least populated class in y has only 2 members, which is less than n_splits=4.\n",
      "  warnings.warn(\n",
      "/Users/kirtisailinaidu/anaconda3/lib/python3.11/site-packages/sklearn/model_selection/_split.py:737: UserWarning: The least populated class in y has only 1 members, which is less than n_splits=4.\n",
      "  warnings.warn(\n",
      "/Users/kirtisailinaidu/anaconda3/lib/python3.11/site-packages/sklearn/model_selection/_split.py:737: UserWarning: The least populated class in y has only 2 members, which is less than n_splits=4.\n",
      "  warnings.warn(\n",
      "/Users/kirtisailinaidu/anaconda3/lib/python3.11/site-packages/sklearn/model_selection/_split.py:737: UserWarning: The least populated class in y has only 2 members, which is less than n_splits=4.\n",
      "  warnings.warn(\n",
      "/Users/kirtisailinaidu/anaconda3/lib/python3.11/site-packages/sklearn/model_selection/_split.py:737: UserWarning: The least populated class in y has only 1 members, which is less than n_splits=4.\n",
      "  warnings.warn(\n",
      "/Users/kirtisailinaidu/anaconda3/lib/python3.11/site-packages/sklearn/model_selection/_split.py:737: UserWarning: The least populated class in y has only 2 members, which is less than n_splits=4.\n",
      "  warnings.warn(\n",
      "/Users/kirtisailinaidu/anaconda3/lib/python3.11/site-packages/sklearn/model_selection/_split.py:737: UserWarning: The least populated class in y has only 2 members, which is less than n_splits=4.\n",
      "  warnings.warn(\n",
      "/Users/kirtisailinaidu/anaconda3/lib/python3.11/site-packages/sklearn/model_selection/_split.py:737: UserWarning: The least populated class in y has only 2 members, which is less than n_splits=4.\n",
      "  warnings.warn(\n",
      "/Users/kirtisailinaidu/anaconda3/lib/python3.11/site-packages/sklearn/model_selection/_split.py:737: UserWarning: The least populated class in y has only 1 members, which is less than n_splits=4.\n",
      "  warnings.warn(\n",
      "/Users/kirtisailinaidu/anaconda3/lib/python3.11/site-packages/sklearn/model_selection/_split.py:737: UserWarning: The least populated class in y has only 2 members, which is less than n_splits=4.\n",
      "  warnings.warn(\n",
      "/Users/kirtisailinaidu/anaconda3/lib/python3.11/site-packages/sklearn/model_selection/_split.py:737: UserWarning: The least populated class in y has only 2 members, which is less than n_splits=4.\n",
      "  warnings.warn(\n",
      "/Users/kirtisailinaidu/anaconda3/lib/python3.11/site-packages/sklearn/model_selection/_split.py:737: UserWarning: The least populated class in y has only 2 members, which is less than n_splits=4.\n",
      "  warnings.warn(\n",
      "/Users/kirtisailinaidu/anaconda3/lib/python3.11/site-packages/sklearn/model_selection/_split.py:737: UserWarning: The least populated class in y has only 1 members, which is less than n_splits=4.\n",
      "  warnings.warn(\n",
      "/Users/kirtisailinaidu/anaconda3/lib/python3.11/site-packages/sklearn/model_selection/_split.py:737: UserWarning: The least populated class in y has only 2 members, which is less than n_splits=4.\n",
      "  warnings.warn(\n",
      "/Users/kirtisailinaidu/anaconda3/lib/python3.11/site-packages/sklearn/model_selection/_split.py:737: UserWarning: The least populated class in y has only 2 members, which is less than n_splits=4.\n",
      "  warnings.warn(\n",
      "/Users/kirtisailinaidu/anaconda3/lib/python3.11/site-packages/sklearn/model_selection/_split.py:737: UserWarning: The least populated class in y has only 2 members, which is less than n_splits=4.\n",
      "  warnings.warn(\n",
      "/Users/kirtisailinaidu/anaconda3/lib/python3.11/site-packages/sklearn/model_selection/_split.py:737: UserWarning: The least populated class in y has only 1 members, which is less than n_splits=4.\n",
      "  warnings.warn(\n",
      "/Users/kirtisailinaidu/anaconda3/lib/python3.11/site-packages/sklearn/model_selection/_split.py:737: UserWarning: The least populated class in y has only 2 members, which is less than n_splits=4.\n",
      "  warnings.warn(\n",
      "/Users/kirtisailinaidu/anaconda3/lib/python3.11/site-packages/sklearn/model_selection/_split.py:737: UserWarning: The least populated class in y has only 2 members, which is less than n_splits=4.\n",
      "  warnings.warn(\n",
      "/Users/kirtisailinaidu/anaconda3/lib/python3.11/site-packages/sklearn/model_selection/_split.py:737: UserWarning: The least populated class in y has only 2 members, which is less than n_splits=4.\n",
      "  warnings.warn(\n",
      "/Users/kirtisailinaidu/anaconda3/lib/python3.11/site-packages/sklearn/model_selection/_split.py:737: UserWarning: The least populated class in y has only 1 members, which is less than n_splits=4.\n",
      "  warnings.warn(\n",
      "/Users/kirtisailinaidu/anaconda3/lib/python3.11/site-packages/sklearn/model_selection/_split.py:737: UserWarning: The least populated class in y has only 2 members, which is less than n_splits=4.\n",
      "  warnings.warn(\n",
      "/Users/kirtisailinaidu/anaconda3/lib/python3.11/site-packages/sklearn/model_selection/_split.py:737: UserWarning: The least populated class in y has only 2 members, which is less than n_splits=4.\n",
      "  warnings.warn(\n",
      "/Users/kirtisailinaidu/anaconda3/lib/python3.11/site-packages/sklearn/model_selection/_split.py:737: UserWarning: The least populated class in y has only 2 members, which is less than n_splits=4.\n",
      "  warnings.warn(\n",
      "/Users/kirtisailinaidu/anaconda3/lib/python3.11/site-packages/sklearn/model_selection/_split.py:737: UserWarning: The least populated class in y has only 1 members, which is less than n_splits=4.\n",
      "  warnings.warn(\n",
      "/Users/kirtisailinaidu/anaconda3/lib/python3.11/site-packages/sklearn/model_selection/_split.py:737: UserWarning: The least populated class in y has only 2 members, which is less than n_splits=4.\n",
      "  warnings.warn(\n",
      "/Users/kirtisailinaidu/anaconda3/lib/python3.11/site-packages/sklearn/model_selection/_split.py:737: UserWarning: The least populated class in y has only 2 members, which is less than n_splits=4.\n",
      "  warnings.warn(\n",
      "/Users/kirtisailinaidu/anaconda3/lib/python3.11/site-packages/sklearn/model_selection/_split.py:737: UserWarning: The least populated class in y has only 2 members, which is less than n_splits=4.\n",
      "  warnings.warn(\n",
      "/Users/kirtisailinaidu/anaconda3/lib/python3.11/site-packages/sklearn/model_selection/_split.py:737: UserWarning: The least populated class in y has only 1 members, which is less than n_splits=4.\n",
      "  warnings.warn(\n",
      "/Users/kirtisailinaidu/anaconda3/lib/python3.11/site-packages/sklearn/model_selection/_split.py:737: UserWarning: The least populated class in y has only 2 members, which is less than n_splits=4.\n",
      "  warnings.warn(\n",
      "/Users/kirtisailinaidu/anaconda3/lib/python3.11/site-packages/sklearn/model_selection/_split.py:737: UserWarning: The least populated class in y has only 2 members, which is less than n_splits=4.\n",
      "  warnings.warn(\n",
      "/Users/kirtisailinaidu/anaconda3/lib/python3.11/site-packages/sklearn/model_selection/_split.py:737: UserWarning: The least populated class in y has only 2 members, which is less than n_splits=4.\n",
      "  warnings.warn(\n",
      "/Users/kirtisailinaidu/anaconda3/lib/python3.11/site-packages/sklearn/model_selection/_split.py:737: UserWarning: The least populated class in y has only 2 members, which is less than n_splits=4.\n",
      "  warnings.warn(\n",
      "/Users/kirtisailinaidu/anaconda3/lib/python3.11/site-packages/sklearn/model_selection/_split.py:737: UserWarning: The least populated class in y has only 2 members, which is less than n_splits=4.\n",
      "  warnings.warn(\n",
      "/Users/kirtisailinaidu/anaconda3/lib/python3.11/site-packages/sklearn/model_selection/_split.py:737: UserWarning: The least populated class in y has only 2 members, which is less than n_splits=4.\n",
      "  warnings.warn(\n",
      "/Users/kirtisailinaidu/anaconda3/lib/python3.11/site-packages/sklearn/model_selection/_split.py:737: UserWarning: The least populated class in y has only 1 members, which is less than n_splits=4.\n",
      "  warnings.warn(\n"
     ]
    }
   ],
   "source": [
    "# Importing necessary libraries\n",
    "import pandas as pd\n",
    "from sklearn.ensemble import IsolationForest\n",
    "import ppscore as pps\n",
    "\n",
    "# Step 1: Load the dataset\n",
    "data = pd.read_csv(\"/Users/kirtisailinaidu/Downloads/EDA2/adult_with_headers.csv\")\n",
    "\n",
    "# Step 2: Outlier Detection using Isolation Forest\n",
    "iso_forest = IsolationForest(contamination=0.1, random_state=42)\n",
    "outlier_predictions = iso_forest.fit_predict(data.select_dtypes(include=['int', 'float']))\n",
    "\n",
    "# Discussion on Outliers:\n",
    "# Outliers can significantly affect model performance by skewing the distribution of the data, leading to biased estimates of model parameters. \n",
    "# They can also influence the decision boundary of certain machine learning algorithms, impacting their ability to generalize to unseen data.\n",
    "\n",
    "# Step 3: Feature Relationship Analysis using PPS\n",
    "pps_matrix = pps.matrix(data)\n",
    "\n",
    "# Discussion on PPS:\n",
    "# PPS (Predictive Power Score) is a metric that quantifies the predictive power of a feature with respect to a target variable.\n",
    "# It provides insights into both linear and nonlinear relationships between features, making it a valuable tool for feature selection.\n",
    "# Comparing PPS findings with the correlation matrix helps identify nonlinear relationships that might be overlooked by traditional correlation analysis.\n",
    "\n",
    "# Comparing PPS findings with the correlation matrix\n",
    "correlation_matrix = data.select_dtypes(include=['int', 'float']).corr()"
   ]
  },
  {
   "cell_type": "code",
   "execution_count": 40,
   "id": "d52b612c",
   "metadata": {},
   "outputs": [
    {
     "name": "stdout",
     "output_type": "stream",
     "text": [
      "Skewed Feature: capital_gain\n",
      "Mean before transformation: 1077.6488437087312\n",
      "Skewness before transformation: 11.953296998194332\n",
      "Mean after transformation: 0.7346209104536999\n",
      "Skewness after transformation: 3.0960008914182358\n"
     ]
    }
   ],
   "source": [
    "# Importing necessary libraries\n",
    "import pandas as pd\n",
    "import numpy as np\n",
    "from scipy.stats import skew\n",
    "from sklearn.preprocessing import FunctionTransformer\n",
    "\n",
    "# Step 1: Load the dataset\n",
    "data = pd.read_csv(\"/Users/kirtisailinaidu/Downloads/EDA2/adult_with_headers.csv\")\n",
    "\n",
    "# Step 2: Feature Engineering\n",
    "\n",
    "# Creating new feature - Combined Education and Occupation\n",
    "data['Edu_Occupation'] = data['education'] + \"_\" + data['occupation']\n",
    "\n",
    "# Creating new feature - Age multiplied by Education Years\n",
    "data['Age_Education_Years'] = data['age'] * data['education']\n",
    "\n",
    "# Step 3: Apply transformation to skewed numerical feature\n",
    "\n",
    "# Identify skewed numerical features\n",
    "numerical_features = data.select_dtypes(include=[np.number]).columns\n",
    "skewed_features = data[numerical_features].apply(lambda x: skew(x)).sort_values(ascending=False)\n",
    "skewed_features = skewed_features[abs(skewed_features) > 0.75]  # Threshold for skewness\n",
    "\n",
    "# Apply log transformation to the skewed feature with the highest skewness\n",
    "skewed_feature = skewed_features.index[0]\n",
    "data[skewed_feature + '_log'] = np.log1p(data[skewed_feature])\n",
    "\n",
    "# Justification for log transformation:\n",
    "# Log transformation is commonly used for skewed numerical features as it helps to stabilize the variance and make the data more normally distributed.\n",
    "# This can improve the performance of models that assume normally distributed data, such as linear regression.\n",
    "# Log transformation is particularly effective when the data has a right-skewed distribution, as it compresses the range of large values and spreads out the range of small values.\n",
    "\n",
    "# Display the transformed feature\n",
    "print(\"Skewed Feature:\", skewed_feature)\n",
    "print(\"Mean before transformation:\", data[skewed_feature].mean())\n",
    "print(\"Skewness before transformation:\", skew(data[skewed_feature]))\n",
    "print(\"Mean after transformation:\", data[skewed_feature + '_log'].mean())\n",
    "print(\"Skewness after transformation:\", skew(data[skewed_feature + '_log']))"
   ]
  },
  {
   "cell_type": "code",
   "execution_count": 45,
   "id": "dc1f20b9",
   "metadata": {},
   "outputs": [
    {
     "name": "stdout",
     "output_type": "stream",
     "text": [
      "   workclass  education  marital_status  occupation  relationship  race  sex  \\\n",
      "0          7          9               4           1             1     4    1   \n",
      "1          6          9               2           4             0     4    1   \n",
      "2          4         11               0           6             1     4    1   \n",
      "3          4          1               2           6             0     2    1   \n",
      "4          4          9               2          10             5     2    0   \n",
      "\n",
      "   native_country  income  \n",
      "0              39       0  \n",
      "1              39       0  \n",
      "2              39       0  \n",
      "3              39       0  \n",
      "4               5       0  \n"
     ]
    }
   ],
   "source": [
    "# Importing necessary libraries\n",
    "import pandas as pd\n",
    "from sklearn.preprocessing import OneHotEncoder, LabelEncoder\n",
    "\n",
    "# Step 1: Load the dataset\n",
    "data = pd.read_csv(\"/Users/kirtisailinaidu/Downloads/EDA2/adult_with_headers.csv\")\n",
    "\n",
    "# Step 2: Identify categorical variables\n",
    "categorical_features = data.select_dtypes(include=['object']).columns\n",
    "\n",
    "# Step 3: Apply One-Hot Encoding and Label Encoding\n",
    "onehot_encoder = OneHotEncoder()\n",
    "label_encoder = LabelEncoder()\n",
    "\n",
    "encoded_data = pd.DataFrame()  # DataFrame to store encoded features\n",
    "\n",
    "for feature in categorical_features:\n",
    "    if len(data[feature].unique()) <= 1:  # Applying One-Hot Encoding for variables with less than 5 categories\n",
    "        encoded_values = onehot_encoder.fit_transform(data[[feature]])\n",
    "        encoded_df = pd.DataFrame(encoded_values, columns=[f\"{feature}_{i}\" for i in range(encoded_values.shape[1])])\n",
    "        encoded_data = pd.concat([encoded_data, encoded_df], axis=1)\n",
    "    else:  # Applying Label Encoding for variables with more than 5 categories\n",
    "        encoded_data[feature] = label_encoder.fit_transform(data[feature])\n",
    "\n",
    "# Display the encoded data\n",
    "print(encoded_data.head())"
   ]
  }
 ],
 "metadata": {
  "kernelspec": {
   "display_name": "Python 3 (ipykernel)",
   "language": "python",
   "name": "python3"
  },
  "language_info": {
   "codemirror_mode": {
    "name": "ipython",
    "version": 3
   },
   "file_extension": ".py",
   "mimetype": "text/x-python",
   "name": "python",
   "nbconvert_exporter": "python",
   "pygments_lexer": "ipython3",
   "version": "3.11.5"
  }
 },
 "nbformat": 4,
 "nbformat_minor": 5
}

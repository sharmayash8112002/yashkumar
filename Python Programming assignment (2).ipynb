{
 "cells": [
  {
   "cell_type": "code",
   "execution_count": 1,
   "id": "339f233e",
   "metadata": {},
   "outputs": [],
   "source": [
    "import random"
   ]
  },
  {
   "cell_type": "code",
   "execution_count": 2,
   "id": "ec67d3cd",
   "metadata": {},
   "outputs": [],
   "source": [
    "num1 = random.randint(1, 10)\n",
    "num2 = random.randint(1, 10)"
   ]
  },
  {
   "cell_type": "code",
   "execution_count": null,
   "id": "3775b9a8",
   "metadata": {},
   "outputs": [],
   "source": [
    "user_product = int(input(f\"What is the product of {num1} and {num2}? \"))"
   ]
  }
 ],
 "metadata": {
  "kernelspec": {
   "display_name": "Python 3 (ipykernel)",
   "language": "python",
   "name": "python3"
  },
  "language_info": {
   "codemirror_mode": {
    "name": "ipython",
    "version": 3
   },
   "file_extension": ".py",
   "mimetype": "text/x-python",
   "name": "python",
   "nbconvert_exporter": "python",
   "pygments_lexer": "ipython3",
   "version": "3.11.5"
  }
 },
 "nbformat": 4,
 "nbformat_minor": 5
}

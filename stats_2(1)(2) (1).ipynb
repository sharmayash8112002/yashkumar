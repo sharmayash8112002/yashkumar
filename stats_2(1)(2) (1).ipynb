{
 "cells": [
  {
   "cell_type": "code",
   "execution_count": 1,
   "id": "ab2617ac",
   "metadata": {},
   "outputs": [],
   "source": [
    "import numpy as np\n",
    "from scipy.stats import t"
   ]
  },
  {
   "cell_type": "code",
   "execution_count": 2,
   "id": "5bc530e8",
   "metadata": {},
   "outputs": [],
   "source": [
    "durability_data = [1.13, 1.55, 1.43, 0.92, 1.25, 1.36, 1.32, 0.85, 1.07, 1.48, 1.20, 1.33, 1.18, 1.22, 1.29]"
   ]
  },
  {
   "cell_type": "code",
   "execution_count": 3,
   "id": "3a1f7ae4",
   "metadata": {},
   "outputs": [],
   "source": [
    "sample_mean = np.mean(durability_data)"
   ]
  },
  {
   "cell_type": "code",
   "execution_count": 4,
   "id": "270b0c56",
   "metadata": {},
   "outputs": [],
   "source": [
    "sample_std = np.std(durability_data, ddof=1)"
   ]
  },
  {
   "cell_type": "code",
   "execution_count": 5,
   "id": "57f2bf62",
   "metadata": {},
   "outputs": [],
   "source": [
    "n = len(durability_data)"
   ]
  },
  {
   "cell_type": "code",
   "execution_count": 6,
   "id": "3e1dd820",
   "metadata": {},
   "outputs": [],
   "source": [
    "confidence_level = 0.99"
   ]
  },
  {
   "cell_type": "code",
   "execution_count": 7,
   "id": "fc3b3f30",
   "metadata": {},
   "outputs": [],
   "source": [
    "alpha = 1 - confidence_level\n",
    "t_critical = t.ppf(1 - alpha/2, df=n-1)"
   ]
  },
  {
   "cell_type": "code",
   "execution_count": 8,
   "id": "9637c8fa",
   "metadata": {},
   "outputs": [],
   "source": [
    "margin_of_error = t_critical * (sample_std / np.sqrt(n))"
   ]
  },
  {
   "cell_type": "code",
   "execution_count": 9,
   "id": "6fa392fe",
   "metadata": {},
   "outputs": [],
   "source": [
    "confidence_interval = (sample_mean - margin_of_error, sample_mean + margin_of_error)"
   ]
  },
  {
   "cell_type": "code",
   "execution_count": 10,
   "id": "41c5c24b",
   "metadata": {},
   "outputs": [
    {
     "name": "stdout",
     "output_type": "stream",
     "text": [
      "Sample Mean: 1.2386666666666666\n",
      "Sample Standard Deviation: 0.19316412956959936\n",
      "Sample Size: 15\n",
      "Confidence Interval (99%): (1.090197338451367, 1.3871359948819662)\n"
     ]
    }
   ],
   "source": [
    "print(\"Sample Mean:\", sample_mean)\n",
    "print(\"Sample Standard Deviation:\", sample_std)\n",
    "print(\"Sample Size:\", n)\n",
    "print(\"Confidence Interval (99%):\", confidence_interval)"
   ]
  },
  {
   "cell_type": "code",
   "execution_count": 11,
   "id": "e6eee6b0",
   "metadata": {},
   "outputs": [],
   "source": [
    "import numpy as np\n",
    "from scipy.stats import norm"
   ]
  },
  {
   "cell_type": "code",
   "execution_count": 12,
   "id": "c246c357",
   "metadata": {},
   "outputs": [],
   "source": [
    "durability_data = [1.13, 1.55, 1.43, 0.92, 1.25, 1.36, 1.32, 0.85, 1.07, 1.48, 1.20, 1.33, 1.18, 1.22, 1.29]"
   ]
  },
  {
   "cell_type": "code",
   "execution_count": 13,
   "id": "e4a1315b",
   "metadata": {},
   "outputs": [],
   "source": [
    "sample_mean = np.mean(durability_data)"
   ]
  },
  {
   "cell_type": "code",
   "execution_count": 14,
   "id": "953dff5c",
   "metadata": {},
   "outputs": [],
   "source": [
    "n = len(durability_data)"
   ]
  },
  {
   "cell_type": "code",
   "execution_count": 15,
   "id": "8106aa15",
   "metadata": {},
   "outputs": [],
   "source": [
    "confidence_level = 0.99"
   ]
  },
  {
   "cell_type": "code",
   "execution_count": 16,
   "id": "50e839e7",
   "metadata": {},
   "outputs": [],
   "source": [
    "z_critical = norm.ppf(1 - (1 - confidence_level) / 2)"
   ]
  },
  {
   "cell_type": "code",
   "execution_count": 17,
   "id": "ed0b2ca6",
   "metadata": {},
   "outputs": [],
   "source": [
    "population_std = 0.2  # in millions of characters"
   ]
  },
  {
   "cell_type": "code",
   "execution_count": 18,
   "id": "d6c409e9",
   "metadata": {},
   "outputs": [],
   "source": [
    "margin_of_error = z_critical * (population_std / np.sqrt(n))"
   ]
  },
  {
   "cell_type": "code",
   "execution_count": 19,
   "id": "fdc95196",
   "metadata": {},
   "outputs": [],
   "source": [
    "confidence_interval = (sample_mean - margin_of_error, sample_mean + margin_of_error)"
   ]
  },
  {
   "cell_type": "code",
   "execution_count": 20,
   "id": "e32ed8b9",
   "metadata": {},
   "outputs": [
    {
     "name": "stdout",
     "output_type": "stream",
     "text": [
      "Sample Mean: 1.2386666666666666\n",
      "Sample Size: 15\n",
      "Confidence Interval (99%): (1.1056514133957607, 1.3716819199375725)\n"
     ]
    }
   ],
   "source": [
    "print(\"Sample Mean:\", sample_mean)\n",
    "print(\"Sample Size:\", n)\n",
    "print(\"Confidence Interval (99%):\", confidence_interval)"
   ]
  },
  {
   "cell_type": "code",
   "execution_count": null,
   "id": "c25133e5",
   "metadata": {},
   "outputs": [],
   "source": []
  }
 ],
 "metadata": {
  "kernelspec": {
   "display_name": "Python 3 (ipykernel)",
   "language": "python",
   "name": "python3"
  },
  "language_info": {
   "codemirror_mode": {
    "name": "ipython",
    "version": 3
   },
   "file_extension": ".py",
   "mimetype": "text/x-python",
   "name": "python",
   "nbconvert_exporter": "python",
   "pygments_lexer": "ipython3",
   "version": "3.11.5"
  }
 },
 "nbformat": 4,
 "nbformat_minor": 5
}
